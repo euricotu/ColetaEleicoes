{
 "cells": [
  {
   "cell_type": "code",
   "execution_count": null,
   "metadata": {},
   "outputs": [],
   "source": [
    "#Importando módulos\n",
    "from tweepy.streaming import StreamListener\n",
    "from tweepy import OAuthHandler\n",
    "from tweepy import Stream\n",
    "from datetime import datetime\n",
    "import json    #Para armazenado dos dados no MongoDB\n",
    "\n",
    "#Preenchendo as chaves\n",
    "consumer_key = \"\"\n",
    "consumer_secret = \"\"\n",
    "access_token = \"\"\n",
    "access_token_secret = \"\"\n",
    "\n",
    "#Criando a autenticação\n",
    "auth = OAuthHandler(consumer_key, consumer_secret)\n",
    "auth.set_access_token(access_token, access_token_secret)\n",
    "\n",
    "#Criando uma classe e método para captura dos dados do Twitter e armazenamento no MongoDB\n",
    "\n",
    "class MyListener(StreamListener): #StreamListener é um objeto específico do tweepy\n",
    "    def on_data(self,dados):\n",
    "        tweet = json.loads(dados) #Carrega os dados em json\n",
    "        tweetind = col.insert_one(tweet).inserted_id #Cria uma coleção 'tweetind' e usa método insert_one para inserir obj nela \n",
    "        print(tweet)\n",
    "        return True\n",
    "\n",
    "#Criando meu ouvidor, um objeto da classe MyListener() e um objeto mystream, que usa minha chave de auth para acessar o ouvidor\n",
    "meuouvidor = MyListener()\n",
    "mystream = Stream(auth, listener = meuouvidor)\n",
    "\n",
    "#CONFIGURANDO O BANCO DE DADOS PARA RECEBER OS DADOS\n",
    "from pymongo import MongoClient\n",
    "client = MongoClient('localhost', 27017)\n",
    "db = client.SouBrasileiroMas_Zé                        ## CRIAR NOME DA BASE DE DADOS AQUI. Siga o padrão: NomeDaBase_Responsável\n",
    "col = db.tweets\n",
    "\n",
    "#Estabelecendo critérios, no caso uma lista de palavras-chaves\n",
    "keywords = [\"#SouBrasileiroMas\"]                       ## DIGITE AQUI O TERMO A SER PESQUISADO\n",
    "\n",
    "#Iniciando filtro e gravando tweets no MongoDB\n",
    "mystream.filter(track=keywords)\n"
   ]
  }
 ],
 "metadata": {
  "kernelspec": {
   "display_name": "Python 3",
   "language": "python",
   "name": "python3"
  },
  "language_info": {
   "codemirror_mode": {
    "name": "ipython",
    "version": 3
   },
   "file_extension": ".py",
   "mimetype": "text/x-python",
   "name": "python",
   "nbconvert_exporter": "python",
   "pygments_lexer": "ipython3",
   "version": "3.6.4"
  }
 },
 "nbformat": 4,
 "nbformat_minor": 2
}
